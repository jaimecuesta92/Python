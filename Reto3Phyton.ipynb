{
  "cells": [
    {
      "cell_type": "code",
      "execution_count": null,
      "metadata": {},
      "outputs": [],
      "source": [
        "n=int(input())\n",
        "db = []\n",
        "disponible=False\n",
        "for i in range(n):\n",
        "  datos=input().split()\n",
        "  db.append(datos)\n",
        "\n",
        "for i in db:\n",
        "  if (float(i[0])>=240) and (float(i[0])<=300):\n",
        "    if (float(i[1])>=160) and (float(i[1])<=180):\n",
        "      if (float(i[2])>=240) and (float(i[2])<=275):\n",
        "        if (float(i[3])<=50):\n",
        "          print(int((i[4])))\n",
        "          disponible=True\n",
        "if disponible==False:\n",
        "  print(\"NO DISPONIBLE\")"
      ]
    }
  ],
  "metadata": {
    "colab": {
      "name": "Reto3Phyton.ipynb",
      "provenance": []
    },
    "interpreter": {
      "hash": "31f2aee4e71d21fbe5cf8b01ff0e069b9275f58929596ceb00d14d90e3e16cd6"
    },
    "kernelspec": {
      "display_name": "Python 3.8.9 64-bit",
      "language": "python",
      "name": "python3"
    },
    "language_info": {
      "codemirror_mode": {
        "name": "ipython",
        "version": 3
      },
      "file_extension": ".py",
      "mimetype": "text/x-python",
      "name": "python",
      "nbconvert_exporter": "python",
      "pygments_lexer": "ipython3",
      "version": "3.8.9"
    }
  },
  "nbformat": 4,
  "nbformat_minor": 0
}
