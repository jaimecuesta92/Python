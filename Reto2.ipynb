{
  "nbformat": 4,
  "nbformat_minor": 2,
  "metadata": {
    "colab": {
      "name": "Reto2.ipynb",
      "provenance": []
    },
    "kernelspec": {
      "name": "python3",
      "display_name": "Python 3"
    },
    "language_info": {
      "name": "python"
    }
  },
  "cells": [
    {
      "cell_type": "code",
      "execution_count": 15,
      "source": [
        "distancia,velMaxima,tiempo = input().split()\n",
        "distancia = float(distancia)\n",
        "velMaxima = float(velMaxima)\n",
        "tiempo = float(tiempo)\n",
        "velMedia= (distancia/1000)/(tiempo/3600)\n",
        "if velMaxima < 0 or tiempo < 0:\n",
        "  print(\"ERROR\")\n",
        "elif velMedia > velMaxima and velMedia < velMaxima*1.2:\n",
        "  print(\"MULTA\")\n",
        "elif velMedia >= velMaxima*1.2:\n",
        "  print(\"CURSO DE SENSIBILIZACION\")\n",
        "elif velMedia < velMaxima:\n",
        "  print(\"OK\")\n"
      ],
      "outputs": [
        {
          "output_type": "stream",
          "name": "stdout",
          "text": [
            "12000 100 361\n",
            "MULTA\n"
          ]
        }
      ],
      "metadata": {
        "colab": {
          "base_uri": "https://localhost:8080/"
        },
        "id": "SM1FVEu-b7ts",
        "outputId": "7bbd47e3-9f0e-4d1f-b589-7d726e711653"
      }
    }
  ]
}