{
  "nbformat": 4,
  "nbformat_minor": 0,
  "metadata": {
    "colab": {
      "name": "Reto4.ipynb",
      "provenance": []
    },
    "kernelspec": {
      "name": "python3",
      "display_name": "Python 3"
    },
    "language_info": {
      "name": "python"
    }
  },
  "cells": [
    {
      "cell_type": "code",
      "execution_count": 5,
      "metadata": {
        "colab": {
          "base_uri": "https://localhost:8080/"
        },
        "id": "Ja_cNozUdVko",
        "outputId": "11f9770c-4bca-4d02-9df2-9598b5f12917"
      },
      "outputs": [
        {
          "output_type": "stream",
          "name": "stdout",
          "text": [
            "5 3\n",
            "1 2 3 1 2\n",
            "2 2 5\n"
          ]
        }
      ],
      "source": [
        "def leer_datos():\n",
        "  n, k = (input().split())\n",
        "  n=int(n)\n",
        "  k=int(k)\n",
        "  b = [int(x) for x in list (input().split(\" \"))]\n",
        "  return n, k, b\n",
        "n, k, b = leer_datos()\n",
        "\n",
        "def verificar_fallas(b, k):\n",
        "    fallas_totales = 0\n",
        "    falla_detectada = 0\n",
        "    d = dict()\n",
        "    for count, value in enumerate(b) :\n",
        "        if (value in d and count - d.get (value) <= k):\n",
        "          falla_detectada += 1\n",
        "        if(value in d) :\n",
        "          fallas_totales += 1\n",
        "        d[value] = count\n",
        "    return fallas_totales, falla_detectada\n",
        "x, y=verificar_fallas(b, k)\n",
        "print(x, y, n)"
      ]
    }
  ]
}