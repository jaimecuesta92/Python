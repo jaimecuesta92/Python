{
  "nbformat": 4,
  "nbformat_minor": 0,
  "metadata": {
    "colab": {
      "name": "RetoPhyton1.ipynb",
      "provenance": [],
      "collapsed_sections": []
    },
    "kernelspec": {
      "name": "python3",
      "display_name": "Python 3"
    },
    "language_info": {
      "name": "python"
    }
  },
  "cells": [
    {
      "cell_type": "code",
      "source": [
        "salario_base,horas_extra,bonificacion=input().split()\n",
        "salario_base=float(salario_base)\n",
        "horas_extra=int(horas_extra)\n",
        "bonificacion=int(bonificacion)\n",
        "vh = salario_base /192\n",
        "he=(vh*1.25)*horas_extra\n",
        "if bonificacion == 1 :\n",
        "  vb = salario_base*0.05\n",
        "else: vb = 0\n",
        "salario_total= salario_base+he+vb\n",
        "salud = salario_total*0.035\n",
        "pension = salario_total*0.04\n",
        "compensacion = salario_total*0.01\n",
        "descuentos = salud+pension + compensacion\n",
        "valorpagado = salario_total - descuentos\n",
        "print(round(valorpagado,1))"
      ],
      "metadata": {
        "colab": {
          "base_uri": "https://localhost:8080/"
        },
        "id": "JJFAvCJ0MSr1",
        "outputId": "b0f3f07d-f7ad-4ebd-be41-d34cfd8e660d"
      },
      "execution_count": 30,
      "outputs": [
        {
          "output_type": "stream",
          "name": "stdout",
          "text": [
            "2355255 2 1\n",
            "2290871.9\n"
          ]
        }
      ]
    }
  ]
}